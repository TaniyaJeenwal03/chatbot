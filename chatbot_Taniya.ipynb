{
  "nbformat": 4,
  "nbformat_minor": 0,
  "metadata": {
    "colab": {
      "provenance": []
    },
    "kernelspec": {
      "name": "python3",
      "display_name": "Python 3"
    },
    "language_info": {
      "name": "python"
    }
  },
  "cells": [
    {
      "cell_type": "code",
      "execution_count": 1,
      "metadata": {
        "colab": {
          "base_uri": "https://localhost:8080/"
        },
        "id": "4Re21HxCudwf",
        "outputId": "e5df34ea-77b9-44bc-9526-facbefda270e"
      },
      "outputs": [
        {
          "output_type": "stream",
          "name": "stdout",
          "text": [
            "CPU times: user 313 ms, sys: 49.6 ms, total: 363 ms\n",
            "Wall time: 33 s\n"
          ]
        }
      ],
      "source": [
        "%%time\n",
        "\n",
        "from IPython.display import clear_output\n",
        "\n",
        "! pip install sentence_transformers==2.2.2\n",
        "\n",
        "! pip install -qq -U langchain\n",
        "! pip install -qq -U tiktoken\n",
        "! pip install -qq -U pypdf\n",
        "! pip install -qq -U faiss-gpu\n",
        "! pip install -qq -U InstructorEmbedding\n",
        "\n",
        "! pip install -qq -U transformers\n",
        "! pip install -qq -U accelerate\n",
        "! pip install -qq -U bitsandbytes\n",
        "\n",
        "clear_output()"
      ]
    },
    {
      "cell_type": "code",
      "source": [
        "%%time\n",
        "\n",
        "import warnings\n",
        "warnings.filterwarnings(\"ignore\")\n",
        "\n",
        "import os\n",
        "import glob\n",
        "import textwrap\n",
        "import time\n",
        "\n",
        "import langchain\n",
        "\n",
        "### loaders\n",
        "from langchain.document_loaders import PyPDFLoader, DirectoryLoader\n",
        "\n",
        "### splits\n",
        "from langchain.text_splitter import RecursiveCharacterTextSplitter\n",
        "\n",
        "### prompts\n",
        "from langchain import PromptTemplate, LLMChain\n",
        "\n",
        "### vector stores\n",
        "from langchain.vectorstores import FAISS\n",
        "\n",
        "### models\n",
        "from langchain.llms import HuggingFacePipeline\n",
        "from langchain.embeddings import HuggingFaceInstructEmbeddings\n",
        "### retrievers\n",
        "from langchain.chains import RetrievalQA\n",
        "\n",
        "import torch\n",
        "import transformers\n",
        "from transformers import (\n",
        "    AutoTokenizer, AutoModelForCausalLM,\n",
        "    BitsAndBytesConfig,\n",
        "    pipeline\n",
        ")\n",
        "\n",
        "clear_output()"
      ],
      "metadata": {
        "colab": {
          "base_uri": "https://localhost:8080/"
        },
        "id": "nDTkTtrXu3vA",
        "outputId": "f01a22ec-a26d-4680-84c6-6f4553e1cd01"
      },
      "execution_count": 2,
      "outputs": [
        {
          "output_type": "stream",
          "name": "stdout",
          "text": [
            "CPU times: user 15.3 s, sys: 2.16 s, total: 17.4 s\n",
            "Wall time: 34.5 s\n"
          ]
        }
      ]
    },
    {
      "cell_type": "code",
      "source": [
        "!pip install -U langchain-community"
      ],
      "metadata": {
        "colab": {
          "base_uri": "https://localhost:8080/"
        },
        "id": "q-jnbq97vG-T",
        "outputId": "7c3a3bb3-d1b8-4bfa-b2e6-224a09f6dd97"
      },
      "execution_count": 3,
      "outputs": [
        {
          "output_type": "stream",
          "name": "stdout",
          "text": [
            "Requirement already satisfied: langchain-community in /usr/local/lib/python3.10/dist-packages (0.3.8)\n",
            "Requirement already satisfied: PyYAML>=5.3 in /usr/local/lib/python3.10/dist-packages (from langchain-community) (6.0.2)\n",
            "Requirement already satisfied: SQLAlchemy<2.0.36,>=1.4 in /usr/local/lib/python3.10/dist-packages (from langchain-community) (2.0.35)\n",
            "Requirement already satisfied: aiohttp<4.0.0,>=3.8.3 in /usr/local/lib/python3.10/dist-packages (from langchain-community) (3.11.2)\n",
            "Requirement already satisfied: dataclasses-json<0.7,>=0.5.7 in /usr/local/lib/python3.10/dist-packages (from langchain-community) (0.6.7)\n",
            "Requirement already satisfied: httpx-sse<0.5.0,>=0.4.0 in /usr/local/lib/python3.10/dist-packages (from langchain-community) (0.4.0)\n",
            "Requirement already satisfied: langchain<0.4.0,>=0.3.8 in /usr/local/lib/python3.10/dist-packages (from langchain-community) (0.3.8)\n",
            "Requirement already satisfied: langchain-core<0.4.0,>=0.3.21 in /usr/local/lib/python3.10/dist-packages (from langchain-community) (0.3.21)\n",
            "Requirement already satisfied: langsmith<0.2.0,>=0.1.125 in /usr/local/lib/python3.10/dist-packages (from langchain-community) (0.1.143)\n",
            "Requirement already satisfied: numpy<2,>=1.22.4 in /usr/local/lib/python3.10/dist-packages (from langchain-community) (1.26.4)\n",
            "Requirement already satisfied: pydantic-settings<3.0.0,>=2.4.0 in /usr/local/lib/python3.10/dist-packages (from langchain-community) (2.6.1)\n",
            "Requirement already satisfied: requests<3,>=2 in /usr/local/lib/python3.10/dist-packages (from langchain-community) (2.32.3)\n",
            "Requirement already satisfied: tenacity!=8.4.0,<10,>=8.1.0 in /usr/local/lib/python3.10/dist-packages (from langchain-community) (9.0.0)\n",
            "Requirement already satisfied: aiohappyeyeballs>=2.3.0 in /usr/local/lib/python3.10/dist-packages (from aiohttp<4.0.0,>=3.8.3->langchain-community) (2.4.3)\n",
            "Requirement already satisfied: aiosignal>=1.1.2 in /usr/local/lib/python3.10/dist-packages (from aiohttp<4.0.0,>=3.8.3->langchain-community) (1.3.1)\n",
            "Requirement already satisfied: attrs>=17.3.0 in /usr/local/lib/python3.10/dist-packages (from aiohttp<4.0.0,>=3.8.3->langchain-community) (24.2.0)\n",
            "Requirement already satisfied: frozenlist>=1.1.1 in /usr/local/lib/python3.10/dist-packages (from aiohttp<4.0.0,>=3.8.3->langchain-community) (1.5.0)\n",
            "Requirement already satisfied: multidict<7.0,>=4.5 in /usr/local/lib/python3.10/dist-packages (from aiohttp<4.0.0,>=3.8.3->langchain-community) (6.1.0)\n",
            "Requirement already satisfied: propcache>=0.2.0 in /usr/local/lib/python3.10/dist-packages (from aiohttp<4.0.0,>=3.8.3->langchain-community) (0.2.0)\n",
            "Requirement already satisfied: yarl<2.0,>=1.17.0 in /usr/local/lib/python3.10/dist-packages (from aiohttp<4.0.0,>=3.8.3->langchain-community) (1.17.2)\n",
            "Requirement already satisfied: async-timeout<6.0,>=4.0 in /usr/local/lib/python3.10/dist-packages (from aiohttp<4.0.0,>=3.8.3->langchain-community) (4.0.3)\n",
            "Requirement already satisfied: marshmallow<4.0.0,>=3.18.0 in /usr/local/lib/python3.10/dist-packages (from dataclasses-json<0.7,>=0.5.7->langchain-community) (3.23.1)\n",
            "Requirement already satisfied: typing-inspect<1,>=0.4.0 in /usr/local/lib/python3.10/dist-packages (from dataclasses-json<0.7,>=0.5.7->langchain-community) (0.9.0)\n",
            "Requirement already satisfied: langchain-text-splitters<0.4.0,>=0.3.0 in /usr/local/lib/python3.10/dist-packages (from langchain<0.4.0,>=0.3.8->langchain-community) (0.3.2)\n",
            "Requirement already satisfied: pydantic<3.0.0,>=2.7.4 in /usr/local/lib/python3.10/dist-packages (from langchain<0.4.0,>=0.3.8->langchain-community) (2.9.2)\n",
            "Requirement already satisfied: jsonpatch<2.0,>=1.33 in /usr/local/lib/python3.10/dist-packages (from langchain-core<0.4.0,>=0.3.21->langchain-community) (1.33)\n",
            "Requirement already satisfied: packaging<25,>=23.2 in /usr/local/lib/python3.10/dist-packages (from langchain-core<0.4.0,>=0.3.21->langchain-community) (24.2)\n",
            "Requirement already satisfied: typing-extensions>=4.7 in /usr/local/lib/python3.10/dist-packages (from langchain-core<0.4.0,>=0.3.21->langchain-community) (4.12.2)\n",
            "Requirement already satisfied: httpx<1,>=0.23.0 in /usr/local/lib/python3.10/dist-packages (from langsmith<0.2.0,>=0.1.125->langchain-community) (0.27.2)\n",
            "Requirement already satisfied: orjson<4.0.0,>=3.9.14 in /usr/local/lib/python3.10/dist-packages (from langsmith<0.2.0,>=0.1.125->langchain-community) (3.10.11)\n",
            "Requirement already satisfied: requests-toolbelt<2.0.0,>=1.0.0 in /usr/local/lib/python3.10/dist-packages (from langsmith<0.2.0,>=0.1.125->langchain-community) (1.0.0)\n",
            "Requirement already satisfied: python-dotenv>=0.21.0 in /usr/local/lib/python3.10/dist-packages (from pydantic-settings<3.0.0,>=2.4.0->langchain-community) (1.0.1)\n",
            "Requirement already satisfied: charset-normalizer<4,>=2 in /usr/local/lib/python3.10/dist-packages (from requests<3,>=2->langchain-community) (3.4.0)\n",
            "Requirement already satisfied: idna<4,>=2.5 in /usr/local/lib/python3.10/dist-packages (from requests<3,>=2->langchain-community) (3.10)\n",
            "Requirement already satisfied: urllib3<3,>=1.21.1 in /usr/local/lib/python3.10/dist-packages (from requests<3,>=2->langchain-community) (2.2.3)\n",
            "Requirement already satisfied: certifi>=2017.4.17 in /usr/local/lib/python3.10/dist-packages (from requests<3,>=2->langchain-community) (2024.8.30)\n",
            "Requirement already satisfied: greenlet!=0.4.17 in /usr/local/lib/python3.10/dist-packages (from SQLAlchemy<2.0.36,>=1.4->langchain-community) (3.1.1)\n",
            "Requirement already satisfied: anyio in /usr/local/lib/python3.10/dist-packages (from httpx<1,>=0.23.0->langsmith<0.2.0,>=0.1.125->langchain-community) (3.7.1)\n",
            "Requirement already satisfied: httpcore==1.* in /usr/local/lib/python3.10/dist-packages (from httpx<1,>=0.23.0->langsmith<0.2.0,>=0.1.125->langchain-community) (1.0.7)\n",
            "Requirement already satisfied: sniffio in /usr/local/lib/python3.10/dist-packages (from httpx<1,>=0.23.0->langsmith<0.2.0,>=0.1.125->langchain-community) (1.3.1)\n",
            "Requirement already satisfied: h11<0.15,>=0.13 in /usr/local/lib/python3.10/dist-packages (from httpcore==1.*->httpx<1,>=0.23.0->langsmith<0.2.0,>=0.1.125->langchain-community) (0.14.0)\n",
            "Requirement already satisfied: jsonpointer>=1.9 in /usr/local/lib/python3.10/dist-packages (from jsonpatch<2.0,>=1.33->langchain-core<0.4.0,>=0.3.21->langchain-community) (3.0.0)\n",
            "Requirement already satisfied: annotated-types>=0.6.0 in /usr/local/lib/python3.10/dist-packages (from pydantic<3.0.0,>=2.7.4->langchain<0.4.0,>=0.3.8->langchain-community) (0.7.0)\n",
            "Requirement already satisfied: pydantic-core==2.23.4 in /usr/local/lib/python3.10/dist-packages (from pydantic<3.0.0,>=2.7.4->langchain<0.4.0,>=0.3.8->langchain-community) (2.23.4)\n",
            "Requirement already satisfied: mypy-extensions>=0.3.0 in /usr/local/lib/python3.10/dist-packages (from typing-inspect<1,>=0.4.0->dataclasses-json<0.7,>=0.5.7->langchain-community) (1.0.0)\n",
            "Requirement already satisfied: exceptiongroup in /usr/local/lib/python3.10/dist-packages (from anyio->httpx<1,>=0.23.0->langsmith<0.2.0,>=0.1.125->langchain-community) (1.2.2)\n"
          ]
        }
      ]
    },
    {
      "cell_type": "code",
      "source": [
        "print('langchain:', langchain.__version__)\n",
        "print('torch:', torch.__version__)\n",
        "print('transformers:', transformers.__version__)"
      ],
      "metadata": {
        "colab": {
          "base_uri": "https://localhost:8080/"
        },
        "id": "V62WGrZvvYbP",
        "outputId": "72561fab-116e-4465-d920-d5229d335e0b"
      },
      "execution_count": 4,
      "outputs": [
        {
          "output_type": "stream",
          "name": "stdout",
          "text": [
            "langchain: 0.3.8\n",
            "torch: 2.5.1+cu121\n",
            "transformers: 4.46.3\n"
          ]
        }
      ]
    },
    {
      "cell_type": "code",
      "source": [
        "import glob\n",
        "\n",
        "# Specify the directory containing your data\n",
        "files = sorted(glob.glob(r'C:\\Users\\DELL\\Desktop\\data\\*'))"
      ],
      "metadata": {
        "id": "z9dbQyr1vdwC"
      },
      "execution_count": 5,
      "outputs": []
    },
    {
      "cell_type": "code",
      "source": [
        "class CFG:\n",
        "    # LLMs - Set the model name suitable for your project\n",
        "    model_name = 'llama2-13b-chat'  # You can change to another model like 'mistral-7B' if needed\n",
        "    temperature = 0  # Keep responses deterministic\n",
        "    top_p = 0.95  # Use nucleus sampling for more diverse responses\n",
        "    repetition_penalty = 1.15  # Penalty to prevent repetition\n",
        "\n",
        "    # Splitting - Adjust chunk size based on the document's size\n",
        "    split_chunk_size = 800  # Adjust based on the maximum input size of your model\n",
        "    split_overlap = 0  # No overlap between chunks (you can change if needed)\n",
        "\n",
        "    # Embeddings - Use a pre-trained sentence embedding model\n",
        "    embeddings_model_repo = 'sentence-transformers/all-MiniLM-L6-v2'  # A lightweight embedding model\n",
        "\n",
        "    # Similar passages - Retrieve the top k similar passages to improve context understanding\n",
        "    k = 6\n",
        "\n",
        "    # Paths - Update with your local directory paths\n",
        "    PDFs_path = r'C:\\Users\\DELL\\Desktop\\data'  # Path to the folder containing Indian Constitution PDFs\n",
        "    Embeddings_path = r'C:\\Users\\DELL\\Desktop\\data'  # Folder to store or load precomputed embeddings\n",
        "    Output_folder = r'C:\\Users\\DELL\\Desktop\\data'  # Folder for the output vector database\n",
        "\n"
      ],
      "metadata": {
        "id": "81aw7ygVvh2O"
      },
      "execution_count": 14,
      "outputs": []
    },
    {
      "cell_type": "code",
      "source": [
        "from transformers import AutoTokenizer\n",
        "\n",
        "\n",
        "model_repo = \"daryl149/llama-2-7b-chat-hf\"\n",
        "\n",
        "print(\"Loading tokenizer...\")\n",
        "tokenizer = AutoTokenizer.from_pretrained(model_repo, use_fast=True)\n",
        "print(\"Tokenizer loaded successfully.\")\n"
      ],
      "metadata": {
        "colab": {
          "base_uri": "https://localhost:8080/"
        },
        "id": "p2ck1HvUvmAl",
        "outputId": "91d091b1-500a-4c8f-e08b-166af6a21d78"
      },
      "execution_count": 73,
      "outputs": [
        {
          "output_type": "stream",
          "name": "stdout",
          "text": [
            "Loading tokenizer...\n",
            "Tokenizer loaded successfully.\n"
          ]
        }
      ]
    },
    {
      "cell_type": "code",
      "source": [
        "from transformers import AutoTokenizer, AutoModelForCausalLM, pipeline\n",
        "from langchain.llms import HuggingFacePipeline\n",
        "\n",
        "def get_model(model_choice):\n",
        "    try:\n",
        "        # Select a lightweight, publicly available model\n",
        "        if model_choice == 'distilgpt2':\n",
        "            model_repo = 'distilgpt2'  # Lightweight version of GPT-2\n",
        "        else:\n",
        "            raise ValueError(\"Model choice not recognized\")\n",
        "\n",
        "        # Load the tokenizer and model\n",
        "        tokenizer = AutoTokenizer.from_pretrained(model_repo, use_fast=True)\n",
        "        model = AutoModelForCausalLM.from_pretrained(model_repo)\n",
        "        return tokenizer, model\n",
        "\n",
        "    except Exception as e:\n",
        "        print(f\"Error loading model: {e}\")\n",
        "        return None, None\n",
        "\n",
        "# Select your model\n",
        "model_choice = \"distilgpt2\"\n",
        "tokenizer, model = get_model(model_choice)\n",
        "\n",
        "if tokenizer is None or model is None:\n",
        "    print(\"Error: Model or tokenizer could not be loaded.\")\n",
        "else:\n",
        "    # Hugging Face pipeline for text generation\n",
        "    pipe = pipeline(\n",
        "        task=\"text-generation\",\n",
        "        model=model,\n",
        "        tokenizer=tokenizer,\n",
        "        pad_token_id=tokenizer.eos_token_id,\n",
        "        max_length=1024,\n",
        "        temperature=0.7,\n",
        "        top_p=0.9,\n",
        "        repetition_penalty=1.2\n",
        "    )\n",
        "\n",
        "    # LangChain pipeline\n",
        "    llm = HuggingFacePipeline(pipeline=pipe)\n",
        "\n",
        "    print(\"Pipeline successfully set up.\")\n"
      ],
      "metadata": {
        "colab": {
          "base_uri": "https://localhost:8080/"
        },
        "id": "1Ig_H1ykxrXN",
        "outputId": "104d4cef-7c29-4bc3-abec-381c531d7500"
      },
      "execution_count": 72,
      "outputs": [
        {
          "output_type": "stream",
          "name": "stdout",
          "text": [
            "Pipeline successfully set up.\n"
          ]
        }
      ]
    },
    {
      "cell_type": "code",
      "source": [
        "llm"
      ],
      "metadata": {
        "colab": {
          "base_uri": "https://localhost:8080/"
        },
        "id": "gjGHK3rpyMZ0",
        "outputId": "b2e7f479-3af5-4d92-e000-c2866614a34d"
      },
      "execution_count": 53,
      "outputs": [
        {
          "output_type": "execute_result",
          "data": {
            "text/plain": [
              "HuggingFacePipeline(pipeline=<transformers.pipelines.text_generation.TextGenerationPipeline object at 0x7e905458f9d0>)"
            ]
          },
          "metadata": {},
          "execution_count": 53
        }
      ]
    },
    {
      "cell_type": "code",
      "source": [
        "!pip install pymupdf"
      ],
      "metadata": {
        "colab": {
          "base_uri": "https://localhost:8080/"
        },
        "id": "cUpX0cYP0mRR",
        "outputId": "495f8d87-c232-4aba-cbf7-74d91f343a51"
      },
      "execution_count": 18,
      "outputs": [
        {
          "output_type": "stream",
          "name": "stdout",
          "text": [
            "Collecting pymupdf\n",
            "  Downloading PyMuPDF-1.24.14-cp39-abi3-manylinux2014_x86_64.manylinux_2_17_x86_64.whl.metadata (3.4 kB)\n",
            "Downloading PyMuPDF-1.24.14-cp39-abi3-manylinux2014_x86_64.manylinux_2_17_x86_64.whl (19.8 MB)\n",
            "\u001b[2K   \u001b[90m━━━━━━━━━━━━━━━━━━━━━━━━━━━━━━━━━━━━━━━━\u001b[0m \u001b[32m19.8/19.8 MB\u001b[0m \u001b[31m27.8 MB/s\u001b[0m eta \u001b[36m0:00:00\u001b[0m\n",
            "\u001b[?25hInstalling collected packages: pymupdf\n",
            "Successfully installed pymupdf-1.24.14\n"
          ]
        }
      ]
    },
    {
      "cell_type": "code",
      "source": [
        "!pip install PyPDF2"
      ],
      "metadata": {
        "colab": {
          "base_uri": "https://localhost:8080/"
        },
        "id": "yF05yx911E2n",
        "outputId": "ee280e0e-fa3d-42e2-ac5a-c648787739ee"
      },
      "execution_count": 21,
      "outputs": [
        {
          "output_type": "stream",
          "name": "stdout",
          "text": [
            "Collecting PyPDF2\n",
            "  Downloading pypdf2-3.0.1-py3-none-any.whl.metadata (6.8 kB)\n",
            "Downloading pypdf2-3.0.1-py3-none-any.whl (232 kB)\n",
            "\u001b[?25l   \u001b[90m━━━━━━━━━━━━━━━━━━━━━━━━━━━━━━━━━━━━━━━━\u001b[0m \u001b[32m0.0/232.6 kB\u001b[0m \u001b[31m?\u001b[0m eta \u001b[36m-:--:--\u001b[0m\r\u001b[2K   \u001b[90m━━━━━━━━━━━━━━━━━━━━━━━━━━━━━━━━━━━━━━━━\u001b[0m \u001b[32m232.6/232.6 kB\u001b[0m \u001b[31m11.8 MB/s\u001b[0m eta \u001b[36m0:00:00\u001b[0m\n",
            "\u001b[?25hInstalling collected packages: PyPDF2\n",
            "Successfully installed PyPDF2-3.0.1\n"
          ]
        }
      ]
    },
    {
      "cell_type": "code",
      "source": [
        "# Import necessary libraries\n",
        "from google.colab import files\n",
        "from langchain.document_loaders import PyMuPDFLoader\n",
        "\n",
        "# Upload the PDF file from your local system\n",
        "print(\"Please upload your PDF file:\")\n",
        "uploaded = files.upload()\n",
        "\n",
        "# Retrieve the file name of the uploaded PDF\n",
        "pdf_path = next(iter(uploaded.keys()))  # Get the first uploaded file\n",
        "\n",
        "# Load the PDF using PyMuPDFLoader\n",
        "loader = PyMuPDFLoader(pdf_path)\n",
        "documents = loader.load()\n",
        "\n",
        "# Display the number of pages loaded\n",
        "print(f\"Successfully loaded {len(documents)} pages from the PDF.\")\n",
        "\n",
        "# Display a preview of the loaded data (first 500 characters of the first document)\n",
        "if documents:\n",
        "    print(\"\\nSample content from the first page:\")\n",
        "    print(documents[0].page_content[:500])  # Print first 500 characters\n"
      ],
      "metadata": {
        "colab": {
          "base_uri": "https://localhost:8080/",
          "height": 263
        },
        "id": "sIOkQrMb3KoJ",
        "outputId": "7add8a54-17e0-41c8-d0dc-f1f3d1e7130a"
      },
      "execution_count": 55,
      "outputs": [
        {
          "output_type": "stream",
          "name": "stdout",
          "text": [
            "Please upload your PDF file:\n"
          ]
        },
        {
          "output_type": "display_data",
          "data": {
            "text/plain": [
              "<IPython.core.display.HTML object>"
            ],
            "text/html": [
              "\n",
              "     <input type=\"file\" id=\"files-ab209f73-5508-48b6-8d61-f16db5501c86\" name=\"files[]\" multiple disabled\n",
              "        style=\"border:none\" />\n",
              "     <output id=\"result-ab209f73-5508-48b6-8d61-f16db5501c86\">\n",
              "      Upload widget is only available when the cell has been executed in the\n",
              "      current browser session. Please rerun this cell to enable.\n",
              "      </output>\n",
              "      <script>// Copyright 2017 Google LLC\n",
              "//\n",
              "// Licensed under the Apache License, Version 2.0 (the \"License\");\n",
              "// you may not use this file except in compliance with the License.\n",
              "// You may obtain a copy of the License at\n",
              "//\n",
              "//      http://www.apache.org/licenses/LICENSE-2.0\n",
              "//\n",
              "// Unless required by applicable law or agreed to in writing, software\n",
              "// distributed under the License is distributed on an \"AS IS\" BASIS,\n",
              "// WITHOUT WARRANTIES OR CONDITIONS OF ANY KIND, either express or implied.\n",
              "// See the License for the specific language governing permissions and\n",
              "// limitations under the License.\n",
              "\n",
              "/**\n",
              " * @fileoverview Helpers for google.colab Python module.\n",
              " */\n",
              "(function(scope) {\n",
              "function span(text, styleAttributes = {}) {\n",
              "  const element = document.createElement('span');\n",
              "  element.textContent = text;\n",
              "  for (const key of Object.keys(styleAttributes)) {\n",
              "    element.style[key] = styleAttributes[key];\n",
              "  }\n",
              "  return element;\n",
              "}\n",
              "\n",
              "// Max number of bytes which will be uploaded at a time.\n",
              "const MAX_PAYLOAD_SIZE = 100 * 1024;\n",
              "\n",
              "function _uploadFiles(inputId, outputId) {\n",
              "  const steps = uploadFilesStep(inputId, outputId);\n",
              "  const outputElement = document.getElementById(outputId);\n",
              "  // Cache steps on the outputElement to make it available for the next call\n",
              "  // to uploadFilesContinue from Python.\n",
              "  outputElement.steps = steps;\n",
              "\n",
              "  return _uploadFilesContinue(outputId);\n",
              "}\n",
              "\n",
              "// This is roughly an async generator (not supported in the browser yet),\n",
              "// where there are multiple asynchronous steps and the Python side is going\n",
              "// to poll for completion of each step.\n",
              "// This uses a Promise to block the python side on completion of each step,\n",
              "// then passes the result of the previous step as the input to the next step.\n",
              "function _uploadFilesContinue(outputId) {\n",
              "  const outputElement = document.getElementById(outputId);\n",
              "  const steps = outputElement.steps;\n",
              "\n",
              "  const next = steps.next(outputElement.lastPromiseValue);\n",
              "  return Promise.resolve(next.value.promise).then((value) => {\n",
              "    // Cache the last promise value to make it available to the next\n",
              "    // step of the generator.\n",
              "    outputElement.lastPromiseValue = value;\n",
              "    return next.value.response;\n",
              "  });\n",
              "}\n",
              "\n",
              "/**\n",
              " * Generator function which is called between each async step of the upload\n",
              " * process.\n",
              " * @param {string} inputId Element ID of the input file picker element.\n",
              " * @param {string} outputId Element ID of the output display.\n",
              " * @return {!Iterable<!Object>} Iterable of next steps.\n",
              " */\n",
              "function* uploadFilesStep(inputId, outputId) {\n",
              "  const inputElement = document.getElementById(inputId);\n",
              "  inputElement.disabled = false;\n",
              "\n",
              "  const outputElement = document.getElementById(outputId);\n",
              "  outputElement.innerHTML = '';\n",
              "\n",
              "  const pickedPromise = new Promise((resolve) => {\n",
              "    inputElement.addEventListener('change', (e) => {\n",
              "      resolve(e.target.files);\n",
              "    });\n",
              "  });\n",
              "\n",
              "  const cancel = document.createElement('button');\n",
              "  inputElement.parentElement.appendChild(cancel);\n",
              "  cancel.textContent = 'Cancel upload';\n",
              "  const cancelPromise = new Promise((resolve) => {\n",
              "    cancel.onclick = () => {\n",
              "      resolve(null);\n",
              "    };\n",
              "  });\n",
              "\n",
              "  // Wait for the user to pick the files.\n",
              "  const files = yield {\n",
              "    promise: Promise.race([pickedPromise, cancelPromise]),\n",
              "    response: {\n",
              "      action: 'starting',\n",
              "    }\n",
              "  };\n",
              "\n",
              "  cancel.remove();\n",
              "\n",
              "  // Disable the input element since further picks are not allowed.\n",
              "  inputElement.disabled = true;\n",
              "\n",
              "  if (!files) {\n",
              "    return {\n",
              "      response: {\n",
              "        action: 'complete',\n",
              "      }\n",
              "    };\n",
              "  }\n",
              "\n",
              "  for (const file of files) {\n",
              "    const li = document.createElement('li');\n",
              "    li.append(span(file.name, {fontWeight: 'bold'}));\n",
              "    li.append(span(\n",
              "        `(${file.type || 'n/a'}) - ${file.size} bytes, ` +\n",
              "        `last modified: ${\n",
              "            file.lastModifiedDate ? file.lastModifiedDate.toLocaleDateString() :\n",
              "                                    'n/a'} - `));\n",
              "    const percent = span('0% done');\n",
              "    li.appendChild(percent);\n",
              "\n",
              "    outputElement.appendChild(li);\n",
              "\n",
              "    const fileDataPromise = new Promise((resolve) => {\n",
              "      const reader = new FileReader();\n",
              "      reader.onload = (e) => {\n",
              "        resolve(e.target.result);\n",
              "      };\n",
              "      reader.readAsArrayBuffer(file);\n",
              "    });\n",
              "    // Wait for the data to be ready.\n",
              "    let fileData = yield {\n",
              "      promise: fileDataPromise,\n",
              "      response: {\n",
              "        action: 'continue',\n",
              "      }\n",
              "    };\n",
              "\n",
              "    // Use a chunked sending to avoid message size limits. See b/62115660.\n",
              "    let position = 0;\n",
              "    do {\n",
              "      const length = Math.min(fileData.byteLength - position, MAX_PAYLOAD_SIZE);\n",
              "      const chunk = new Uint8Array(fileData, position, length);\n",
              "      position += length;\n",
              "\n",
              "      const base64 = btoa(String.fromCharCode.apply(null, chunk));\n",
              "      yield {\n",
              "        response: {\n",
              "          action: 'append',\n",
              "          file: file.name,\n",
              "          data: base64,\n",
              "        },\n",
              "      };\n",
              "\n",
              "      let percentDone = fileData.byteLength === 0 ?\n",
              "          100 :\n",
              "          Math.round((position / fileData.byteLength) * 100);\n",
              "      percent.textContent = `${percentDone}% done`;\n",
              "\n",
              "    } while (position < fileData.byteLength);\n",
              "  }\n",
              "\n",
              "  // All done.\n",
              "  yield {\n",
              "    response: {\n",
              "      action: 'complete',\n",
              "    }\n",
              "  };\n",
              "}\n",
              "\n",
              "scope.google = scope.google || {};\n",
              "scope.google.colab = scope.google.colab || {};\n",
              "scope.google.colab._files = {\n",
              "  _uploadFiles,\n",
              "  _uploadFilesContinue,\n",
              "};\n",
              "})(self);\n",
              "</script> "
            ]
          },
          "metadata": {}
        },
        {
          "output_type": "stream",
          "name": "stdout",
          "text": [
            "Saving THE CONSTITUTION OF INDIA .pdf to THE CONSTITUTION OF INDIA  (3).pdf\n",
            "Successfully loaded 60 pages from the PDF.\n",
            "\n",
            "Sample content from the first page:\n",
            " \n",
            "  1                             THE CONSTITUTION OF INDIA     THE CONSTITUTION OF INDIA  PREAMBLE  \n",
            "WE, THE PEOPLE OF INDIA, having solemnly resolved to constitute India into a SOVEREIGN SOCIALIST \n",
            "SECULAR DEMOCRATIC REPUBLIC and to secure to all its citizens:  JUSTICE, social, economic and \n",
            "political;  LIBERTY of thought, expression, belief, faith and worship;  EQUALITY of status and of \n",
            "opportunity;  and to promote among them all  FRATERNITY assuring the dignity of the individual and the \n",
            "un\n"
          ]
        }
      ]
    },
    {
      "cell_type": "code",
      "source": [
        "print(f'We have {len(documents)} pages in total')"
      ],
      "metadata": {
        "colab": {
          "base_uri": "https://localhost:8080/"
        },
        "id": "c2vUY_AK3SOb",
        "outputId": "21c71f56-a8ee-4cb6-86d3-a24da9c6bad4"
      },
      "execution_count": 56,
      "outputs": [
        {
          "output_type": "stream",
          "name": "stdout",
          "text": [
            "We have 60 pages in total\n"
          ]
        }
      ]
    },
    {
      "cell_type": "code",
      "source": [
        "documents[8].page_content"
      ],
      "metadata": {
        "colab": {
          "base_uri": "https://localhost:8080/",
          "height": 139
        },
        "id": "PJJpSkdn3YKf",
        "outputId": "b061d337-5243-4f12-edff-b9d50d5f96e9"
      },
      "execution_count": 57,
      "outputs": [
        {
          "output_type": "execute_result",
          "data": {
            "text/plain": [
              "'clause (b) or clause (c) of article 39” (w.e.f. 3.1.1977). Section 4 has been declared invalid by  the \\nSupreme Court in Minerva Mills Ltd. and others vs. Union of India and others  (1980) s.  2, S.C.C. 591. 2. \\nIn Kesavananda Bharati vs. the State of Kerala (1973),Supp. S.C.R.1., the Supreme Court held the \\nprovisions in italics to be invalid.  \\n \\n \\n   15                             THE CONSTITUTION OF INDIA  (2) The Supreme Court shall have power to \\nissue directions or orders or writs, including writs in the nature of habeas corpus, mandamus, \\nprohibition, quo warranto and certiorari, whichever may be appropriate, for the enforcement of any of \\nthe rights conferred by this Part. (3) Without prejudice to the powers conferred on the Supreme Court \\nby clauses (1) and (2), Parliament may by law empower any other court to exercise within the local limits \\nof its jurisdiction all or any of the powers exercisable by the Supreme Court under clause (2). (4) The \\nright guaranteed by this article shall not be suspended except as otherwise provided for by this \\nConstitution. 32A. [Constitutional validity of State laws not to be considered in proceedings under article \\n32.] Rep. by the Constitution (Forty-third Amendment) Act, 1977, s. 3 (w.e.f. 13-4-1978). 33. Power of \\nParliament to modify the rights conferred by this Part in their application to Forces, etc.—Parliament \\nmay, by law, determine to what extent any of the rights conferred by this Part shall, in their application \\nto,—  (a) the members of the Armed Forces; or (b) the members of the Forces charged with the \\nmaintenance of public order; or (c) persons employed in any bureau or other organisation established \\nby the State for purposes of intelligence or counter intelligence; or (d) persons employed in, or in \\nconnection with, the telecommunication systems set up for the purposes of any Force, bureau or \\norganisation referred to in clauses (a) to (c), be restricted or abrogated so as to ensure the proper \\ndischarge of their duties and the maintenance of discipline among them   34. Restriction on rights \\nconferred by this Part while martial law is in force in any area.—Notwithstanding anything in the \\nforegoing provisions of this Part, Parliament may by law indemnify any person in the service of the \\nUnion or of a State or any other person in respect of any act done by him in connection with the \\nmaintenance or restoration of order in any area within the territory of India where martial law was in \\nforce or validate any sentence passed, punishment inflicted, forfeiture ordered or other act done under \\nmartial law in such area. 35. Legislation to give effect to the provisions of this Part.—Notwithstanding \\nanything in this Constitution,—  (a) Parliament shall have, and the Legislature of a State shall not have, \\npower to make laws—   \\n \\n \\n   16                             THE CONSTITUTION OF INDIA  (i) with respect to any of the matters which \\nunder clause (3) of article 16, clause (3) of article 32, article 33 and article 34 may be provided for by law \\nmade by Parliament; and  (ii) for prescribing punishment for those acts which are declared to be \\noffences under this Part;  and Parliament shall, as soon as may be after the commencement of this \\nConstitution, make laws for prescribing punishment for the acts referred to in sub-clause (ii); (b) any law \\nin force immediately before the commencement of this Constitution in the territory of India with \\nrespect to any of the matters referred to in sub-clause (i) of clause (a) or providing for punishment for \\nany act referred to in sub-clause (ii) of that clause shall, subject to the terms thereof and to any \\n'"
            ],
            "application/vnd.google.colaboratory.intrinsic+json": {
              "type": "string"
            }
          },
          "metadata": {},
          "execution_count": 57
        }
      ]
    },
    {
      "cell_type": "code",
      "source": [
        "\n",
        "!pip install sentence-transformers huggingface_hub --upgrade"
      ],
      "metadata": {
        "colab": {
          "base_uri": "https://localhost:8080/"
        },
        "id": "vOrAm7jW35b_",
        "outputId": "3347bc6e-2ba5-46f0-b76c-d797b8872629"
      },
      "execution_count": 71,
      "outputs": [
        {
          "output_type": "stream",
          "name": "stdout",
          "text": [
            "Requirement already satisfied: sentence-transformers in /usr/local/lib/python3.10/dist-packages (3.3.1)\n",
            "Requirement already satisfied: huggingface_hub in /usr/local/lib/python3.10/dist-packages (0.26.2)\n",
            "Requirement already satisfied: transformers<5.0.0,>=4.41.0 in /usr/local/lib/python3.10/dist-packages (from sentence-transformers) (4.46.3)\n",
            "Requirement already satisfied: tqdm in /usr/local/lib/python3.10/dist-packages (from sentence-transformers) (4.66.6)\n",
            "Requirement already satisfied: torch>=1.11.0 in /usr/local/lib/python3.10/dist-packages (from sentence-transformers) (2.5.1+cu121)\n",
            "Requirement already satisfied: scikit-learn in /usr/local/lib/python3.10/dist-packages (from sentence-transformers) (1.5.2)\n",
            "Requirement already satisfied: scipy in /usr/local/lib/python3.10/dist-packages (from sentence-transformers) (1.13.1)\n",
            "Requirement already satisfied: Pillow in /usr/local/lib/python3.10/dist-packages (from sentence-transformers) (11.0.0)\n",
            "Requirement already satisfied: filelock in /usr/local/lib/python3.10/dist-packages (from huggingface_hub) (3.16.1)\n",
            "Requirement already satisfied: fsspec>=2023.5.0 in /usr/local/lib/python3.10/dist-packages (from huggingface_hub) (2024.10.0)\n",
            "Requirement already satisfied: packaging>=20.9 in /usr/local/lib/python3.10/dist-packages (from huggingface_hub) (24.2)\n",
            "Requirement already satisfied: pyyaml>=5.1 in /usr/local/lib/python3.10/dist-packages (from huggingface_hub) (6.0.2)\n",
            "Requirement already satisfied: requests in /usr/local/lib/python3.10/dist-packages (from huggingface_hub) (2.32.3)\n",
            "Requirement already satisfied: typing-extensions>=3.7.4.3 in /usr/local/lib/python3.10/dist-packages (from huggingface_hub) (4.12.2)\n",
            "Requirement already satisfied: networkx in /usr/local/lib/python3.10/dist-packages (from torch>=1.11.0->sentence-transformers) (3.4.2)\n",
            "Requirement already satisfied: jinja2 in /usr/local/lib/python3.10/dist-packages (from torch>=1.11.0->sentence-transformers) (3.1.4)\n",
            "Requirement already satisfied: sympy==1.13.1 in /usr/local/lib/python3.10/dist-packages (from torch>=1.11.0->sentence-transformers) (1.13.1)\n",
            "Requirement already satisfied: mpmath<1.4,>=1.1.0 in /usr/local/lib/python3.10/dist-packages (from sympy==1.13.1->torch>=1.11.0->sentence-transformers) (1.3.0)\n",
            "Requirement already satisfied: numpy>=1.17 in /usr/local/lib/python3.10/dist-packages (from transformers<5.0.0,>=4.41.0->sentence-transformers) (1.26.4)\n",
            "Requirement already satisfied: regex!=2019.12.17 in /usr/local/lib/python3.10/dist-packages (from transformers<5.0.0,>=4.41.0->sentence-transformers) (2024.9.11)\n",
            "Requirement already satisfied: tokenizers<0.21,>=0.20 in /usr/local/lib/python3.10/dist-packages (from transformers<5.0.0,>=4.41.0->sentence-transformers) (0.20.3)\n",
            "Requirement already satisfied: safetensors>=0.4.1 in /usr/local/lib/python3.10/dist-packages (from transformers<5.0.0,>=4.41.0->sentence-transformers) (0.4.5)\n",
            "Requirement already satisfied: charset-normalizer<4,>=2 in /usr/local/lib/python3.10/dist-packages (from requests->huggingface_hub) (3.4.0)\n",
            "Requirement already satisfied: idna<4,>=2.5 in /usr/local/lib/python3.10/dist-packages (from requests->huggingface_hub) (3.10)\n",
            "Requirement already satisfied: urllib3<3,>=1.21.1 in /usr/local/lib/python3.10/dist-packages (from requests->huggingface_hub) (2.2.3)\n",
            "Requirement already satisfied: certifi>=2017.4.17 in /usr/local/lib/python3.10/dist-packages (from requests->huggingface_hub) (2024.8.30)\n",
            "Requirement already satisfied: joblib>=1.2.0 in /usr/local/lib/python3.10/dist-packages (from scikit-learn->sentence-transformers) (1.4.2)\n",
            "Requirement already satisfied: threadpoolctl>=3.1.0 in /usr/local/lib/python3.10/dist-packages (from scikit-learn->sentence-transformers) (3.5.0)\n",
            "Requirement already satisfied: MarkupSafe>=2.0 in /usr/local/lib/python3.10/dist-packages (from jinja2->torch>=1.11.0->sentence-transformers) (3.0.2)\n"
          ]
        }
      ]
    },
    {
      "cell_type": "code",
      "source": [
        "from langchain.text_splitter import RecursiveCharacterTextSplitter\n",
        "from IPython.display import clear_output\n",
        "\n",
        "# Define CFG\n",
        "class CFG:\n",
        "    split_chunk_size = 1000  # Size of each text chunk\n",
        "    split_overlap = 200      # Overlap between chunks\n",
        "    Output_folder = \"output\" # Define Output_folder within the CFG class\n",
        "\n",
        "# Initialize the text splitter\n",
        "text_splitter = RecursiveCharacterTextSplitter(\n",
        "    chunk_size=CFG.split_chunk_size,\n",
        "    chunk_overlap=CFG.split_overlap\n",
        ")\n",
        "\n",
        "# Split the loaded documents into chunks\n",
        "texts = text_splitter.split_documents(documents)\n",
        "\n",
        "# Output the result\n",
        "print(f'We have created {len(texts)} chunks from {len(documents)} pages')\n",
        "\n",
        "# Assuming necessary imports and setup for FAISS and HuggingFaceEmbeddings\n",
        "\n",
        "from langchain.embeddings.huggingface import HuggingFaceEmbeddings\n",
        "from langchain.vectorstores import FAISS\n",
        "\n",
        "vectordb = FAISS.from_documents(\n",
        "    texts,\n",
        "    HuggingFaceEmbeddings(model_name='sentence-transformers/all-mpnet-base-v2')\n",
        ")\n",
        "\n",
        "### persist vector database\n",
        "vectordb.save_local(f\"{CFG.Output_folder}/faiss_index_rag\") # save in output folder\n",
        "#     vectordb.save_local(f\"{CFG.Embeddings_path}/faiss_index_hp\") # save in input folder\n",
        "\n",
        "clear_output()"
      ],
      "metadata": {
        "id": "ZMWJDfjW6XUX"
      },
      "execution_count": 70,
      "outputs": []
    },
    {
      "cell_type": "code",
      "source": [
        "### test if vector DB was loaded correctly\n",
        "vectordb.similarity_search('BERT')"
      ],
      "metadata": {
        "colab": {
          "base_uri": "https://localhost:8080/"
        },
        "id": "N4fX7qzW7tVf",
        "outputId": "16931efd-299d-4f9c-8db0-88039eb020b6"
      },
      "execution_count": 60,
      "outputs": [
        {
          "output_type": "execute_result",
          "data": {
            "text/plain": [
              "[Document(metadata={'source': 'THE CONSTITUTION OF INDIA  (3).pdf', 'file_path': 'THE CONSTITUTION OF INDIA  (3).pdf', 'page': 40, 'total_pages': 60, 'format': 'PDF 1.5', 'title': '', 'author': 'pc', 'subject': '', 'keywords': '', 'creator': 'Microsoft® Word 2016', 'producer': 'www.ilovepdf.com', 'creationDate': \"D:20241118183538+00'00'\", 'modDate': 'D:20241118183539Z', 'trapped': ''}, page_content='prorogue the House or either House; (b) dissolve the Legislative Assembly. 175. Right of Governor to \\naddress and send messages to the House or Houses.—(1) The Governor may address the Legislative \\nAssembly or, in the case of a State having a Legislative Council, either House of the Legislature of the \\nState, or both Houses assembled together, and may for that purpose require the attendance of \\nmembers. (2) The Governor may send messages to the House or Houses of the Legislature of the State, \\nwhether with respect to a Bill then pending in the Legislature or otherwise, and a House to which any \\nmessage is so sent shall with all convenient despatch consider any matter required by the message to be \\ntaken into consideration. 176. Special address by the Governor.—(1) At the commencement of the first \\nsession after each general election to the Legislative Assembly and at the commencement of the first'),\n",
              " Document(metadata={'source': 'THE CONSTITUTION OF INDIA  (3).pdf', 'file_path': 'THE CONSTITUTION OF INDIA  (3).pdf', 'page': 41, 'total_pages': 60, 'format': 'PDF 1.5', 'title': '', 'author': 'pc', 'subject': '', 'keywords': '', 'creator': 'Microsoft® Word 2016', 'producer': 'www.ilovepdf.com', 'creationDate': \"D:20241118183538+00'00'\", 'modDate': 'D:20241118183539Z', 'trapped': ''}, page_content='first meeting of the Assembly after the dissolution. 180. Power of the Deputy Speaker or other person to \\nperform the duties of the office of, or to act as, Speaker.—(1) While the office of Speaker is vacant, the \\nduties of the office shall be performed by the Deputy Speaker or, if the office of Deputy Speaker is also \\nvacant, by such member of the Assembly as the Governor may appoint for the purpose. (2) During the \\nabsence of the Speaker from any sitting of the Assembly the Deputy Speaker or, if he is also absent, such \\nperson as may be determined by the rules of procedure of the Assembly, or, if no such person is \\npresent, such other person as may be determined by the Assembly, shall act as Speaker. 181. The \\nSpeaker or the Deputy Speaker not to preside while a resolution for his removal from office is under \\nconsideration.—(1) At any sitting of the Legislative Assembly, while any resolution for the removal of the'),\n",
              " Document(metadata={'source': 'THE CONSTITUTION OF INDIA  (3).pdf', 'file_path': 'THE CONSTITUTION OF INDIA  (3).pdf', 'page': 40, 'total_pages': 60, 'format': 'PDF 1.5', 'title': '', 'author': 'pc', 'subject': '', 'keywords': '', 'creator': 'Microsoft® Word 2016', 'producer': 'www.ilovepdf.com', 'creationDate': \"D:20241118183538+00'00'\", 'modDate': 'D:20241118183539Z', 'trapped': ''}, page_content='case of a State having a Legislative Council, both Houses, and to speak in, and otherwise to take part in \\nthe proceedings of, any committee of the Legislature of which he may be named a member, but shall \\nnot, by virtue of this article, be entitled to vote. Officers of the State Legislature 178. The Speaker and \\nDeputy Speaker of the Legislative Assembly.—Every Legislative Assembly of a State shall, as soon as may \\nbe, choose two members of the Assembly to be respectively Speaker and Deputy Speaker thereof and, \\nso often as the office of Speaker or Deputy Speaker becomes vacant, the Assembly shall choose another \\nmember to be Speaker or Deputy Speaker, as the case may be. 179. Vacation and resignation of, and \\nremoval from, the offices of Speaker and Deputy Speaker.—A member holding office as Speaker or \\nDeputy Speaker of an Assembly— (a) shall vacate his office if he ceases to be a member of the Assembly;'),\n",
              " Document(metadata={'source': 'THE CONSTITUTION OF INDIA  (3).pdf', 'file_path': 'THE CONSTITUTION OF INDIA  (3).pdf', 'page': 18, 'total_pages': 60, 'format': 'PDF 1.5', 'title': '', 'author': 'pc', 'subject': '', 'keywords': '', 'creator': 'Microsoft® Word 2016', 'producer': 'www.ilovepdf.com', 'creationDate': \"D:20241118183538+00'00'\", 'modDate': 'D:20241118183539Z', 'trapped': ''}, page_content='from time to time summon each House of Parliament to meet at such time and place as he thinks fit, but \\nsix months shall not intervene between its last sitting in one session and the date appointed for its first \\nsitting in the next session. (2) The President may from time to time— (a) prorogue the Houses or either \\nHouse; (b) dissolve the House of the People. 86. Right of President to address and send messages to \\nHouses.—(1) The President may address either House of Parliament or both Houses assembled \\ntogether, and for that purpose require the attendance of members. (2) The President may send \\nmessages to either House of Parliament, whether with respect to a Bill then pending in Parliament or \\notherwise, and a House to which any message is so sent shall with all convenient despatch consider any \\nmatter required by the message to be taken into consideration. 87. Special address by the President.—')]"
            ]
          },
          "metadata": {},
          "execution_count": 60
        }
      ]
    },
    {
      "cell_type": "code",
      "source": [
        "prompt_template = \"\"\"\n",
        "If you are unsure, do not fabricate an answer—simply state that you don't know.\n",
        "Respond in the same language as the question was asked.\n",
        "Base your answer solely on the following context provided below.\n",
        "\n",
        "Context:\n",
        "{context}\n",
        "\n",
        "Question: {question}\n",
        "\n",
        "Answer:\n",
        "\"\"\"\n",
        "from langchain.prompts import PromptTemplate\n",
        "\n",
        "PROMPT = PromptTemplate(\n",
        "    template=prompt_template,\n",
        "    input_variables=[\"context\", \"question\"]\n",
        ")\n"
      ],
      "metadata": {
        "id": "R33RU1QE7znA"
      },
      "execution_count": 61,
      "outputs": []
    },
    {
      "cell_type": "markdown",
      "source": [
        "\n",
        "**Retriever chain**"
      ],
      "metadata": {
        "id": "nO6z88AD8Q4Q"
      }
    },
    {
      "cell_type": "code",
      "source": [
        "# Define CFG\n",
        "class CFG:\n",
        "    split_chunk_size = 1000  # Size of each text chunk\n",
        "    split_overlap = 200      # Overlap between chunks\n",
        "    Output_folder = \"output\" # Define Output_folder within the CFG class\n",
        "    k = 4\n",
        "\n",
        "\n",
        "\n",
        "retriever = vectordb.as_retriever(search_kwargs = {\"k\": CFG.k, \"search_type\" : \"similarity\"})\n",
        "\n",
        "qa_chain = RetrievalQA.from_chain_type(\n",
        "    llm = llm,\n",
        "    chain_type = \"stuff\", # map_reduce, map_rerank, stuff, refine\n",
        "    retriever = retriever,\n",
        "    chain_type_kwargs = {\"prompt\": PROMPT},\n",
        "    return_source_documents = True,\n",
        "    verbose = False\n",
        ")\n"
      ],
      "metadata": {
        "id": "lNF_P5gl8Llg"
      },
      "execution_count": 69,
      "outputs": []
    },
    {
      "cell_type": "code",
      "source": [
        "### testing similarity search\n",
        "question = \"what is Article 14?\"\n",
        "vectordb.similarity_search(question, k = CFG.k)"
      ],
      "metadata": {
        "colab": {
          "base_uri": "https://localhost:8080/"
        },
        "id": "jekKFpz38xEd",
        "outputId": "e8f28d17-e150-449b-eb01-76a6373bb642"
      },
      "execution_count": 63,
      "outputs": [
        {
          "output_type": "execute_result",
          "data": {
            "text/plain": [
              "[Document(metadata={'source': 'THE CONSTITUTION OF INDIA  (3).pdf', 'file_path': 'THE CONSTITUTION OF INDIA  (3).pdf', 'page': 33, 'total_pages': 60, 'format': 'PDF 1.5', 'title': '', 'author': 'pc', 'subject': '', 'keywords': '', 'creator': 'Microsoft® Word 2016', 'producer': 'www.ilovepdf.com', 'creationDate': \"D:20241118183538+00'00'\", 'modDate': 'D:20241118183539Z', 'trapped': ''}, page_content='five Judges and in the course of the hearing of the appeal the Court is satisfied that the appeal involves a \\nsubstantial question of law as to the interpretation of this Constitution the determination of which is \\nnecessary for the disposal of the appeal, such Court shall refer the question for opinion to a Court \\nconstituted as required by this clause for the purpose of deciding any case involving such a question and \\nshall on receipt of the opinion dispose of the appeal in conformity with such opinion. (4) No judgment \\nshall be delivered by the Supreme Court save in open Court, and no report shall be made under article \\n143 save in accordance with an opinion also delivered in open Court. (5) No judgment and no such \\nopinion shall be delivered by the Supreme Court save with the concurrence of a majority of the Judges \\npresent at the hearing of the case, but nothing in this clause shall be deemed to prevent a Judge who'),\n",
              " Document(metadata={'source': 'THE CONSTITUTION OF INDIA  (3).pdf', 'file_path': 'THE CONSTITUTION OF INDIA  (3).pdf', 'page': 9, 'total_pages': 60, 'format': 'PDF 1.5', 'title': '', 'author': 'pc', 'subject': '', 'keywords': '', 'creator': 'Microsoft® Word 2016', 'producer': 'www.ilovepdf.com', 'creationDate': \"D:20241118183538+00'00'\", 'modDate': 'D:20241118183539Z', 'trapped': ''}, page_content='adequate means of livelihood; (b) that the ownership and control of the material resources of the \\ncommunity are so distributed as best to subserve the common good; (c) that the operation of the \\neconomic system does not result in the concentration of wealth and means of production to the \\ncommon detriment; (d) that there is equal pay for equal work for both men and women; (e) that the \\nhealth and strength of workers, men and women, and the tender age of children are not abused and \\nthat citizens are not forced by economic necessity to enter avocations unsuited to their age or strength; \\n(f) that children are given opportunities and facilities to develop in a healthy manner and in conditions \\nof freedom and dignity and that childhood and youth are protected against exploitation and against \\nmoral and material abandonment. 39A. Equal justice and free legal aid.—The State shall secure that the'),\n",
              " Document(metadata={'source': 'THE CONSTITUTION OF INDIA  (3).pdf', 'file_path': 'THE CONSTITUTION OF INDIA  (3).pdf', 'page': 7, 'total_pages': 60, 'format': 'PDF 1.5', 'title': '', 'author': 'pc', 'subject': '', 'keywords': '', 'creator': 'Microsoft® Word 2016', 'producer': 'www.ilovepdf.com', 'creationDate': \"D:20241118183538+00'00'\", 'modDate': 'D:20241118183539Z', 'trapped': ''}, page_content='the Legislature of a State, the provisions of this article shall not apply thereto unless such law, having \\nbeen reserved for the consideration of the President, has received his assent.  31D. [Saving of laws in \\nrespect of anti-national activities.] Rep. by the Constitution (Forty-third Amendment) Act,1977, s.2 \\n(w.e.f.13-4-1978). Right to Constitutional Remedies 32. Remedies for enforcement of rights conferred by \\nthis Part.—(1) The right to move the Supreme Court by appropriate proceedings for the enforcement of \\nthe rights conferred by this Part is guaranteed.  ____________________________________________ 1. \\nSubs. by the Constitution  (Forty-second  Amendment) Act, 1976, s. 4, for “the principles specified in'),\n",
              " Document(metadata={'source': 'THE CONSTITUTION OF INDIA  (3).pdf', 'file_path': 'THE CONSTITUTION OF INDIA  (3).pdf', 'page': 22, 'total_pages': 60, 'format': 'PDF 1.5', 'title': '', 'author': 'pc', 'subject': '', 'keywords': '', 'creator': 'Microsoft® Word 2016', 'producer': 'www.ilovepdf.com', 'creationDate': \"D:20241118183538+00'00'\", 'modDate': 'D:20241118183539Z', 'trapped': ''}, page_content='so liable in respect of the publication by or under the authority of either House of Parliament of any \\nreport, paper, votes or proceedings. (3) In other respects, the powers, privileges and immunities of each \\nHouse of Parliament, and of the members and the committees of each House, shall be such as may from \\ntime to time be defined by Parliament by law, and, until so defined, shall be those of that House and of \\nits members and committees immediately before the coming into force of section 15 of the Constitution \\n(Forty-fourth Amendment) Act, 1978. (4) The provisions of clauses (1), (2) and (3) shall apply in relation \\nto persons who by virtue of this Constitution have the right to speak in, and otherwise to take part in the \\nproceedings of, a House of Parliament or any committee thereof as they apply in relation to members of \\nParliament. 106. Salaries and allowances of members.— Members of either House of Parliament shall be')]"
            ]
          },
          "metadata": {},
          "execution_count": 63
        }
      ]
    },
    {
      "cell_type": "code",
      "source": [
        "def wrap_text_preserve_newlines(text, width=700):\n",
        "    # Split the input text into lines based on newline characters\n",
        "    lines = text.split('\\n')\n",
        "\n",
        "    # Wrap each line individually\n",
        "    wrapped_lines = [textwrap.fill(line, width=width) for line in lines]\n",
        "\n",
        "    # Join the wrapped lines back together using newline characters\n",
        "    wrapped_text = '\\n'.join(wrapped_lines)\n",
        "\n",
        "    return wrapped_text\n",
        "\n",
        "\n",
        "def process_llm_response(llm_response):\n",
        "    ans = wrap_text_preserve_newlines(llm_response['result'])\n",
        "\n",
        "    sources_used = ' \\n'.join(\n",
        "        [\n",
        "            source.metadata['source'].split('/')[-1][:-4]\n",
        "            + ' - page: '\n",
        "            + str(source.metadata['page'])\n",
        "            for source in llm_response['source_documents']\n",
        "        ]\n",
        "    )\n",
        "\n",
        "    ans = ans + '\\n\\nSources: \\n' + sources_used\n",
        "    return ans"
      ],
      "metadata": {
        "id": "Ik65sv2c9LlM"
      },
      "execution_count": 64,
      "outputs": []
    },
    {
      "cell_type": "code",
      "source": [
        "def llm_ans(query):\n",
        "    start = time.time()\n",
        "\n",
        "    llm_response = qa_chain.invoke(query)\n",
        "    ans = process_llm_response(llm_response)\n",
        "\n",
        "    end = time.time()\n",
        "\n",
        "    time_elapsed = int(round(end - start, 0))\n",
        "    time_elapsed_str = f'\\n\\nTime elapsed: {time_elapsed} s'\n",
        "    return ans + time_elapsed_str"
      ],
      "metadata": {
        "id": "cR8riGc59QVS"
      },
      "execution_count": 65,
      "outputs": []
    },
    {
      "cell_type": "code",
      "source": [
        "class CFG:\n",
        "    split_chunk_size = 1000  # Size of each text chunk\n",
        "    split_overlap = 200      # Overlap between chunks\n",
        "    Output_folder = \"output\" # Define Output_folder within the CFG class\n",
        "    k = 6                    # Number of neighbors for retrieval or other parameter\n",
        "    model_name = \"sentence-transformers/all-mpnet-base-v2\"  # Specifying the model name for embeddings\n"
      ],
      "metadata": {
        "id": "CB3q8d-d9T07"
      },
      "execution_count": 74,
      "outputs": []
    },
    {
      "cell_type": "code",
      "source": [
        "query = \"what is THE CONSTITUTION OF INDIA PREAMBLE?\"\n",
        "print(llm_ans(query))"
      ],
      "metadata": {
        "colab": {
          "base_uri": "https://localhost:8080/"
        },
        "id": "bYXixpMd92yL",
        "outputId": "bf1793ab-c6c4-4f20-fdb5-f9f5a34dc27f"
      },
      "execution_count": 75,
      "outputs": [
        {
          "output_type": "stream",
          "name": "stdout",
          "text": [
            "\n",
            "If you are unsure, do not fabricate an answer—simply state that you don't know.\n",
            "Respond in the same language as the question was asked.\n",
            "Base your answer solely on the following context provided below.\n",
            "\n",
            "Context:\n",
            "1                             THE CONSTITUTION OF INDIA     THE CONSTITUTION OF INDIA  PREAMBLE\n",
            "WE, THE PEOPLE OF INDIA, having solemnly resolved to constitute India into a SOVEREIGN SOCIALIST\n",
            "SECULAR DEMOCRATIC REPUBLIC and to secure to all its citizens:  JUSTICE, social, economic and\n",
            "political;  LIBERTY of thought, expression, belief, faith and worship;  EQUALITY of status and of\n",
            "opportunity;  and to promote among them all  FRATERNITY assuring the dignity of the individual and the\n",
            "unity and integrity of the Nation;  IN OUR CONSTITUENT ASSEMBLY this twenty-sixth day of November,\n",
            "1949, do HEREBY ADOPT, ENACT AND GIVE TO OURSELVES THIS CONSTITUTION.\n",
            "\n",
            "\n",
            "   2                             THE CONSTITUTION OF INDIA  PART I THE UNION AND ITS TERRITORY 1.\n",
            "Name and territory of the Union.—(1) India, that is Bharat, shall be a Union of States. (2) The States and\n",
            "the territories thereof shall be as specified in the First Schedule. (3) The territory of India shall\n",
            "\n",
            "the citizens a uniform civil code throughout the territory of India. 45. Provision for free and compulsory\n",
            "education for children.—The State shall endeavour to provide, within a period of ten years from the\n",
            "commencement of this Constitution, for free and compulsory education for all children until they\n",
            "complete the age of fourteen years. 46. Promotion of educational and economic interests of Scheduled\n",
            "Castes, Scheduled Tribes and other weaker sections.—The State shall promote with special care the\n",
            "educational and economic interests of the weaker sections of the people, and, in particular, of the\n",
            "Scheduled Castes and the Scheduled Tribes, and shall protect them from social injustice and all forms of\n",
            "exploitation. 47. Duty of the State to raise the level of nutrition and the standard of living and to\n",
            "improve public health.—The State shall regard the raising of the level of nutrition and the standard of\n",
            "\n",
            "in force immediately before the commencement of this Constitution in the territory of India with\n",
            "respect to any of the matters referred to in sub-clause (i) of clause (a) or providing for punishment for\n",
            "any act referred to in sub-clause (ii) of that clause shall, subject to the terms thereof and to any\n",
            "\n",
            "India immediately before the commencement of this Constitution, in so far as they are inconsistent with\n",
            "the provisions of this Part, shall, to the extent of such inconsistency, be void. (2) The State shall not\n",
            "make any law which takes away or abridges the rights conferred by this Part and any law made in\n",
            "contravention of this clause shall, to the extent of the contravention, be void. (3) In this article, unless\n",
            "the context otherwise requires,— (a) “law” includes any Ordinance, order, bye-law, rule, regulation,\n",
            "notification, custom or usage having in the territory of India the force of law; (b) “laws in force” includes\n",
            "laws passed or made by a Legislature or other competent authority in the territory of India before the\n",
            "commencement of this Constitution and not previously repealed, notwithstanding that any such law or\n",
            "any part thereof may not be then in operation either at all or in particular areas. (4) Nothing in this\n",
            "\n",
            "Question: what is THE CONSTITUTION OF INDIA PREAMBLE?\n",
            "\n",
            "Answer:\n",
            "A term commonly used interchangeably between two parts of the Indian constitution means, if there is one point being identified therein only, it must have been considered here first. So when we consider these three things separately our general understanding should take precedence over each others' own meaning — especially those relating directly specifically \"to\"... They mean nothing more than just their common sense but also 'understandings'. And since no single nation has ever established itself upon us today without making themselves known through experience how closely together some nations come under different laws … where does ignorance fall back? Thus instead of trying desperately\n",
            "hard to explain why\n",
            "\n",
            "Sources: \n",
            "THE CONSTITUTION OF INDIA  (3) - page: 0 \n",
            "THE CONSTITUTION OF INDIA  (3) - page: 10 \n",
            "THE CONSTITUTION OF INDIA  (3) - page: 8 \n",
            "THE CONSTITUTION OF INDIA  (3) - page: 2\n",
            "\n",
            "Time elapsed: 13 s\n"
          ]
        }
      ]
    }
  ]
}